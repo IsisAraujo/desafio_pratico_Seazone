{
 "cells": [
  {
   "cell_type": "markdown",
   "source": [
    "# Introdução\n",
    " Vamos mergulhar nos dados do Booking. Nosso objetivo? Entender melhor\n",
    " o comportamento do cliente e as tendências do mercado de hospedagem. \n",
    " Preparados?\n",
    " Vamos lá!\n"
   ],
   "metadata": {
    "collapsed": false
   },
   "id": "34e5ba2d53511daa"
  },
  {
   "cell_type": "markdown",
   "source": [
    "# 1 - Configuração do Ambiente\n",
    "### Aqui, vamos importar as bibliotecas necessárias. Pandas para manipulação de dados, Matplotlib/Seaborn para visualização, etc."
   ],
   "metadata": {
    "collapsed": false
   },
   "id": "a37ae23872939b89"
  },
  {
   "cell_type": "code",
   "execution_count": 225,
   "outputs": [],
   "source": [
    "import pandas as pd\n",
    "import matplotlib.pyplot as plt\n",
    "import seaborn as sns"
   ],
   "metadata": {
    "collapsed": false,
    "ExecuteTime": {
     "end_time": "2023-11-17T13:53:38.463266900Z",
     "start_time": "2023-11-17T13:53:38.281299300Z"
    }
   },
   "id": "168b6934c050243b"
  },
  {
   "cell_type": "markdown",
   "source": [],
   "metadata": {
    "collapsed": false
   },
   "id": "66833a3a2b29e794"
  },
  {
   "cell_type": "markdown",
   "source": [
    "# 2 - Carregamento dos Dados\n",
    "### Agora, vamos carregar os dados. Normalmente, usamos Pandas para isso."
   ],
   "metadata": {
    "collapsed": false
   },
   "id": "dcfdcdf55728ee23"
  },
  {
   "cell_type": "code",
   "execution_count": 226,
   "outputs": [],
   "source": [
    "# utf-8 nao funcionou, foi usado ISO-8859-1 que cobre a maioria das línguas latinas e europeias\n",
    "details = pd.read_csv('desafio_details.csv', encoding=\"ISO-8859-1\", sep = ';')\n",
    "ratings = pd.read_csv('desafio_ratings.csv', encoding=\"ISO-8859-1\", sep = ';' )"
   ],
   "metadata": {
    "collapsed": false,
    "ExecuteTime": {
     "end_time": "2023-11-17T13:53:38.865524600Z",
     "start_time": "2023-11-17T13:53:38.298554Z"
    }
   },
   "id": "e088c44e35effb74"
  },
  {
   "cell_type": "markdown",
   "source": [
    "# 3 - Análise Exploratória e Preparação dos Datasets\n",
    "### Vamos dar uma olhada inicial nos dados, investigar padrões, anomalias e tudo mais que pareça interessante.\n"
   ],
   "metadata": {
    "collapsed": false
   },
   "id": "71fa5c860f90c18f"
  },
  {
   "cell_type": "code",
   "execution_count": 227,
   "outputs": [
    {
     "data": {
      "text/plain": "   Unnamed: 0  hotel_id     room_id  \\\n0           0  10966441  1096644102   \n1           1  10966258  1096625802   \n2           2  10966118  1096611801   \n3           3  10961514  1096151402   \n4           4  10960702  1096070202   \n\n                                         hotel_name        city_name  \\\n0  Apto belo e com churrasqueira na varanda VIC0203    Florianópolis   \n1           Chalés encantadores em Urubici/SC - PAR          Urubici   \n2        Casa em lindo cond. a 5min da praia PEV105          Ubatuba   \n3          Studio a 2min da UFSC Floripa-SC SSG0304    Florianópolis   \n4   MGI - Apartamentos proximos da praia do Tororão  Arraial d'Ajuda   \n\n  accommodation_type          room_name  room_surface_in_m2  \\\n0          apartment        Apartamento                96.0   \n1          apartment            Bangalô                65.0   \n2       holiday_home  Casa de 3 Quartos               220.0   \n3          apartment        Apartamento                51.0   \n4          apartment       Villa Deluxe               130.0   \n\n                                     room_facilities  \n0  ['Taças de vinho', 'Secadora de roupas', 'Guar...  \n1  ['Banheiro privativo', 'Geladeira', 'TV', 'Sec...  \n2  ['Taças de vinho', 'Cozinha', 'Vaso sanitário'...  \n3  ['Toalhas', 'Sofá-cama', 'Fogão', 'Chuveiro', ...  \n4  ['Guarda-roupa ou armário', 'Área para refeiçõ...  ",
      "text/html": "<div>\n<style scoped>\n    .dataframe tbody tr th:only-of-type {\n        vertical-align: middle;\n    }\n\n    .dataframe tbody tr th {\n        vertical-align: top;\n    }\n\n    .dataframe thead th {\n        text-align: right;\n    }\n</style>\n<table border=\"1\" class=\"dataframe\">\n  <thead>\n    <tr style=\"text-align: right;\">\n      <th></th>\n      <th>Unnamed: 0</th>\n      <th>hotel_id</th>\n      <th>room_id</th>\n      <th>hotel_name</th>\n      <th>city_name</th>\n      <th>accommodation_type</th>\n      <th>room_name</th>\n      <th>room_surface_in_m2</th>\n      <th>room_facilities</th>\n    </tr>\n  </thead>\n  <tbody>\n    <tr>\n      <th>0</th>\n      <td>0</td>\n      <td>10966441</td>\n      <td>1096644102</td>\n      <td>Apto belo e com churrasqueira na varanda VIC0203</td>\n      <td>Florianópolis</td>\n      <td>apartment</td>\n      <td>Apartamento</td>\n      <td>96.0</td>\n      <td>['Taças de vinho', 'Secadora de roupas', 'Guar...</td>\n    </tr>\n    <tr>\n      <th>1</th>\n      <td>1</td>\n      <td>10966258</td>\n      <td>1096625802</td>\n      <td>Chalés encantadores em Urubici/SC - PAR</td>\n      <td>Urubici</td>\n      <td>apartment</td>\n      <td>Bangalô</td>\n      <td>65.0</td>\n      <td>['Banheiro privativo', 'Geladeira', 'TV', 'Sec...</td>\n    </tr>\n    <tr>\n      <th>2</th>\n      <td>2</td>\n      <td>10966118</td>\n      <td>1096611801</td>\n      <td>Casa em lindo cond. a 5min da praia PEV105</td>\n      <td>Ubatuba</td>\n      <td>holiday_home</td>\n      <td>Casa de 3 Quartos</td>\n      <td>220.0</td>\n      <td>['Taças de vinho', 'Cozinha', 'Vaso sanitário'...</td>\n    </tr>\n    <tr>\n      <th>3</th>\n      <td>3</td>\n      <td>10961514</td>\n      <td>1096151402</td>\n      <td>Studio a 2min da UFSC Floripa-SC SSG0304</td>\n      <td>Florianópolis</td>\n      <td>apartment</td>\n      <td>Apartamento</td>\n      <td>51.0</td>\n      <td>['Toalhas', 'Sofá-cama', 'Fogão', 'Chuveiro', ...</td>\n    </tr>\n    <tr>\n      <th>4</th>\n      <td>4</td>\n      <td>10960702</td>\n      <td>1096070202</td>\n      <td>MGI - Apartamentos proximos da praia do Tororão</td>\n      <td>Arraial d'Ajuda</td>\n      <td>apartment</td>\n      <td>Villa Deluxe</td>\n      <td>130.0</td>\n      <td>['Guarda-roupa ou armário', 'Área para refeiçõ...</td>\n    </tr>\n  </tbody>\n</table>\n</div>"
     },
     "execution_count": 227,
     "metadata": {},
     "output_type": "execute_result"
    }
   ],
   "source": [
    "# retorna as 5 primeiras linhas do dataset\n",
    "details.head()"
   ],
   "metadata": {
    "collapsed": false,
    "ExecuteTime": {
     "end_time": "2023-11-17T13:53:38.895227600Z",
     "start_time": "2023-11-17T13:53:38.344508Z"
    }
   },
   "id": "d5cd2c45b2605c7d"
  },
  {
   "cell_type": "code",
   "execution_count": 228,
   "outputs": [
    {
     "data": {
      "text/plain": "   Unnamed: 0  hotel_id                                        hotel_name  \\\n0           2  10966118        Casa em lindo cond. a 5min da praia PEV105   \n1           5  10959776     Apartamentos no Jardim Goiás Goiânia/GO - THO   \n2           6  10949139      Casa triplex em condomínio Floripa-SC ALI024   \n3           9  10948439     Apto com piscina no centro de Floripa PCE0406   \n4          10  10943450  Apto espaçoso na beira do lago em Ilhéus ARS0169   \n\n                                                 url  Comodidades  Limpeza  \\\n0  https://www.booking.com/hotel/br/casa-em-lindo...          NaN      NaN   \n1  https://www.booking.com/hotel/br/apartamentos-...          NaN      NaN   \n2  https://www.booking.com/hotel/br/casa-triplex-...          NaN      NaN   \n3  https://www.booking.com/hotel/br/apto-com-pisc...          NaN      NaN   \n4  https://www.booking.com/hotel/br/apto-espacoso...          NaN      NaN   \n\n   Conforto  Custo-benefício  Localização  Total  WiFi gratuito  \\\n0       NaN              NaN          NaN    NaN            NaN   \n1       NaN              NaN          NaN    NaN            NaN   \n2       NaN              NaN          NaN    NaN            NaN   \n3       NaN              NaN          NaN    NaN            NaN   \n4       NaN              NaN          NaN    NaN            NaN   \n\n   number_of_ratings  \n0                  0  \n1                  0  \n2                  0  \n3                  0  \n4                  0  ",
      "text/html": "<div>\n<style scoped>\n    .dataframe tbody tr th:only-of-type {\n        vertical-align: middle;\n    }\n\n    .dataframe tbody tr th {\n        vertical-align: top;\n    }\n\n    .dataframe thead th {\n        text-align: right;\n    }\n</style>\n<table border=\"1\" class=\"dataframe\">\n  <thead>\n    <tr style=\"text-align: right;\">\n      <th></th>\n      <th>Unnamed: 0</th>\n      <th>hotel_id</th>\n      <th>hotel_name</th>\n      <th>url</th>\n      <th>Comodidades</th>\n      <th>Limpeza</th>\n      <th>Conforto</th>\n      <th>Custo-benefício</th>\n      <th>Localização</th>\n      <th>Total</th>\n      <th>WiFi gratuito</th>\n      <th>number_of_ratings</th>\n    </tr>\n  </thead>\n  <tbody>\n    <tr>\n      <th>0</th>\n      <td>2</td>\n      <td>10966118</td>\n      <td>Casa em lindo cond. a 5min da praia PEV105</td>\n      <td>https://www.booking.com/hotel/br/casa-em-lindo...</td>\n      <td>NaN</td>\n      <td>NaN</td>\n      <td>NaN</td>\n      <td>NaN</td>\n      <td>NaN</td>\n      <td>NaN</td>\n      <td>NaN</td>\n      <td>0</td>\n    </tr>\n    <tr>\n      <th>1</th>\n      <td>5</td>\n      <td>10959776</td>\n      <td>Apartamentos no Jardim Goiás Goiânia/GO - THO</td>\n      <td>https://www.booking.com/hotel/br/apartamentos-...</td>\n      <td>NaN</td>\n      <td>NaN</td>\n      <td>NaN</td>\n      <td>NaN</td>\n      <td>NaN</td>\n      <td>NaN</td>\n      <td>NaN</td>\n      <td>0</td>\n    </tr>\n    <tr>\n      <th>2</th>\n      <td>6</td>\n      <td>10949139</td>\n      <td>Casa triplex em condomínio Floripa-SC ALI024</td>\n      <td>https://www.booking.com/hotel/br/casa-triplex-...</td>\n      <td>NaN</td>\n      <td>NaN</td>\n      <td>NaN</td>\n      <td>NaN</td>\n      <td>NaN</td>\n      <td>NaN</td>\n      <td>NaN</td>\n      <td>0</td>\n    </tr>\n    <tr>\n      <th>3</th>\n      <td>9</td>\n      <td>10948439</td>\n      <td>Apto com piscina no centro de Floripa PCE0406</td>\n      <td>https://www.booking.com/hotel/br/apto-com-pisc...</td>\n      <td>NaN</td>\n      <td>NaN</td>\n      <td>NaN</td>\n      <td>NaN</td>\n      <td>NaN</td>\n      <td>NaN</td>\n      <td>NaN</td>\n      <td>0</td>\n    </tr>\n    <tr>\n      <th>4</th>\n      <td>10</td>\n      <td>10943450</td>\n      <td>Apto espaçoso na beira do lago em Ilhéus ARS0169</td>\n      <td>https://www.booking.com/hotel/br/apto-espacoso...</td>\n      <td>NaN</td>\n      <td>NaN</td>\n      <td>NaN</td>\n      <td>NaN</td>\n      <td>NaN</td>\n      <td>NaN</td>\n      <td>NaN</td>\n      <td>0</td>\n    </tr>\n  </tbody>\n</table>\n</div>"
     },
     "execution_count": 228,
     "metadata": {},
     "output_type": "execute_result"
    }
   ],
   "source": [
    "# retorna as 5 primeiras linhas do dataset\n",
    "ratings.head()"
   ],
   "metadata": {
    "collapsed": false,
    "ExecuteTime": {
     "end_time": "2023-11-17T13:53:38.917411100Z",
     "start_time": "2023-11-17T13:53:38.370004500Z"
    }
   },
   "id": "9ae6c28c36390eab"
  },
  {
   "cell_type": "code",
   "execution_count": 229,
   "outputs": [],
   "source": [
    "# retorna o número de linhas e colunas\n",
    "details_shp = details.shape\n",
    "ratings_shp = ratings.shape"
   ],
   "metadata": {
    "collapsed": false,
    "ExecuteTime": {
     "end_time": "2023-11-17T13:53:38.918409400Z",
     "start_time": "2023-11-17T13:53:38.403376400Z"
    }
   },
   "id": "1c2c21bb8b9c3a3d"
  },
  {
   "cell_type": "code",
   "execution_count": 230,
   "outputs": [],
   "source": [
    "# quero saber se são valores unicos o hotel_id de cada dataset\n",
    "details_uniq_id = details['hotel_id'].is_unique\n",
    "ratings_uniq_id = ratings['hotel_id'].is_unique"
   ],
   "metadata": {
    "collapsed": false,
    "ExecuteTime": {
     "end_time": "2023-11-17T13:53:38.951626700Z",
     "start_time": "2023-11-17T13:53:38.415882400Z"
    }
   },
   "id": "c970c8a4ed4d728"
  },
  {
   "cell_type": "code",
   "execution_count": 231,
   "outputs": [
    {
     "name": "stdout",
     "output_type": "stream",
     "text": [
      "Detalhes do Dataset details:\n",
      "Número de linhas, colunas: (1317, 9)\n",
      "Mostra se são valores únicos  (hotel_id): False\n",
      "\n",
      "Detalhes do Dataset ratings:\n",
      "Número de linhas, colunas: (713, 12)\n",
      "Mostra se são valores únicos (hotel_id): True\n"
     ]
    }
   ],
   "source": [
    "# Imprimir os resultados\n",
    "print(\"Detalhes do Dataset details:\")\n",
    "print(\"Número de linhas, colunas:\", details_shp)\n",
    "print(\"Mostra se são valores únicos  (hotel_id):\", details_uniq_id)\n",
    "\n",
    "print(\"\\nDetalhes do Dataset ratings:\")\n",
    "print(\"Número de linhas, colunas:\", ratings_shp)\n",
    "print(\"Mostra se são valores únicos (hotel_id):\", ratings_uniq_id)"
   ],
   "metadata": {
    "collapsed": false,
    "ExecuteTime": {
     "end_time": "2023-11-17T13:53:38.955008900Z",
     "start_time": "2023-11-17T13:53:38.427571700Z"
    }
   },
   "id": "a7999e13efe6f5ab"
  },
  {
   "cell_type": "code",
   "execution_count": 232,
   "outputs": [],
   "source": [
    "# Realizando o merge pelo 'hotel_id',  nesse caso, garante que todas as informações dos hotéis sejam mantidas\n",
    "data = pd.merge(details, ratings, on='hotel_id', how='left', suffixes=('_details', '_ratings'))"
   ],
   "metadata": {
    "collapsed": false,
    "ExecuteTime": {
     "end_time": "2023-11-17T13:53:38.964367300Z",
     "start_time": "2023-11-17T13:53:38.440599400Z"
    }
   },
   "id": "7e7f76e131f0f426"
  },
  {
   "cell_type": "code",
   "execution_count": 233,
   "outputs": [],
   "source": [
    "# Salvando o dataset resultante\n",
    "data.to_csv('dataset_merge.csv', index=False)"
   ],
   "metadata": {
    "collapsed": false,
    "ExecuteTime": {
     "end_time": "2023-11-17T13:53:38.993979500Z",
     "start_time": "2023-11-17T13:53:38.459270800Z"
    }
   },
   "id": "bfa408fd6ab18e32"
  },
  {
   "cell_type": "code",
   "execution_count": 234,
   "outputs": [
    {
     "data": {
      "text/plain": "   Unnamed: 0_details  hotel_id     room_id  \\\n0                   0  10966441  1096644102   \n1                   1  10966258  1096625802   \n2                   2  10966118  1096611801   \n3                   3  10961514  1096151402   \n4                   4  10960702  1096070202   \n\n                                 hotel_name_details        city_name  \\\n0  Apto belo e com churrasqueira na varanda VIC0203    Florianópolis   \n1           Chalés encantadores em Urubici/SC - PAR          Urubici   \n2        Casa em lindo cond. a 5min da praia PEV105          Ubatuba   \n3          Studio a 2min da UFSC Floripa-SC SSG0304    Florianópolis   \n4   MGI - Apartamentos proximos da praia do Tororão  Arraial d'Ajuda   \n\n  accommodation_type          room_name  room_surface_in_m2  \\\n0          apartment        Apartamento                96.0   \n1          apartment            Bangalô                65.0   \n2       holiday_home  Casa de 3 Quartos               220.0   \n3          apartment        Apartamento                51.0   \n4          apartment       Villa Deluxe               130.0   \n\n                                     room_facilities  Unnamed: 0_ratings  \\\n0  ['Taças de vinho', 'Secadora de roupas', 'Guar...                 NaN   \n1  ['Banheiro privativo', 'Geladeira', 'TV', 'Sec...                 NaN   \n2  ['Taças de vinho', 'Cozinha', 'Vaso sanitário'...                 2.0   \n3  ['Toalhas', 'Sofá-cama', 'Fogão', 'Chuveiro', ...                 NaN   \n4  ['Guarda-roupa ou armário', 'Área para refeiçõ...                 NaN   \n\n                           hotel_name_ratings  \\\n0                                         NaN   \n1                                         NaN   \n2  Casa em lindo cond. a 5min da praia PEV105   \n3                                         NaN   \n4                                         NaN   \n\n                                                 url  Comodidades  Limpeza  \\\n0                                                NaN          NaN      NaN   \n1                                                NaN          NaN      NaN   \n2  https://www.booking.com/hotel/br/casa-em-lindo...          NaN      NaN   \n3                                                NaN          NaN      NaN   \n4                                                NaN          NaN      NaN   \n\n   Conforto  Custo-benefício  Localização  Total  WiFi gratuito  \\\n0       NaN              NaN          NaN    NaN            NaN   \n1       NaN              NaN          NaN    NaN            NaN   \n2       NaN              NaN          NaN    NaN            NaN   \n3       NaN              NaN          NaN    NaN            NaN   \n4       NaN              NaN          NaN    NaN            NaN   \n\n   number_of_ratings  \n0                NaN  \n1                NaN  \n2                0.0  \n3                NaN  \n4                NaN  ",
      "text/html": "<div>\n<style scoped>\n    .dataframe tbody tr th:only-of-type {\n        vertical-align: middle;\n    }\n\n    .dataframe tbody tr th {\n        vertical-align: top;\n    }\n\n    .dataframe thead th {\n        text-align: right;\n    }\n</style>\n<table border=\"1\" class=\"dataframe\">\n  <thead>\n    <tr style=\"text-align: right;\">\n      <th></th>\n      <th>Unnamed: 0_details</th>\n      <th>hotel_id</th>\n      <th>room_id</th>\n      <th>hotel_name_details</th>\n      <th>city_name</th>\n      <th>accommodation_type</th>\n      <th>room_name</th>\n      <th>room_surface_in_m2</th>\n      <th>room_facilities</th>\n      <th>Unnamed: 0_ratings</th>\n      <th>hotel_name_ratings</th>\n      <th>url</th>\n      <th>Comodidades</th>\n      <th>Limpeza</th>\n      <th>Conforto</th>\n      <th>Custo-benefício</th>\n      <th>Localização</th>\n      <th>Total</th>\n      <th>WiFi gratuito</th>\n      <th>number_of_ratings</th>\n    </tr>\n  </thead>\n  <tbody>\n    <tr>\n      <th>0</th>\n      <td>0</td>\n      <td>10966441</td>\n      <td>1096644102</td>\n      <td>Apto belo e com churrasqueira na varanda VIC0203</td>\n      <td>Florianópolis</td>\n      <td>apartment</td>\n      <td>Apartamento</td>\n      <td>96.0</td>\n      <td>['Taças de vinho', 'Secadora de roupas', 'Guar...</td>\n      <td>NaN</td>\n      <td>NaN</td>\n      <td>NaN</td>\n      <td>NaN</td>\n      <td>NaN</td>\n      <td>NaN</td>\n      <td>NaN</td>\n      <td>NaN</td>\n      <td>NaN</td>\n      <td>NaN</td>\n      <td>NaN</td>\n    </tr>\n    <tr>\n      <th>1</th>\n      <td>1</td>\n      <td>10966258</td>\n      <td>1096625802</td>\n      <td>Chalés encantadores em Urubici/SC - PAR</td>\n      <td>Urubici</td>\n      <td>apartment</td>\n      <td>Bangalô</td>\n      <td>65.0</td>\n      <td>['Banheiro privativo', 'Geladeira', 'TV', 'Sec...</td>\n      <td>NaN</td>\n      <td>NaN</td>\n      <td>NaN</td>\n      <td>NaN</td>\n      <td>NaN</td>\n      <td>NaN</td>\n      <td>NaN</td>\n      <td>NaN</td>\n      <td>NaN</td>\n      <td>NaN</td>\n      <td>NaN</td>\n    </tr>\n    <tr>\n      <th>2</th>\n      <td>2</td>\n      <td>10966118</td>\n      <td>1096611801</td>\n      <td>Casa em lindo cond. a 5min da praia PEV105</td>\n      <td>Ubatuba</td>\n      <td>holiday_home</td>\n      <td>Casa de 3 Quartos</td>\n      <td>220.0</td>\n      <td>['Taças de vinho', 'Cozinha', 'Vaso sanitário'...</td>\n      <td>2.0</td>\n      <td>Casa em lindo cond. a 5min da praia PEV105</td>\n      <td>https://www.booking.com/hotel/br/casa-em-lindo...</td>\n      <td>NaN</td>\n      <td>NaN</td>\n      <td>NaN</td>\n      <td>NaN</td>\n      <td>NaN</td>\n      <td>NaN</td>\n      <td>NaN</td>\n      <td>0.0</td>\n    </tr>\n    <tr>\n      <th>3</th>\n      <td>3</td>\n      <td>10961514</td>\n      <td>1096151402</td>\n      <td>Studio a 2min da UFSC Floripa-SC SSG0304</td>\n      <td>Florianópolis</td>\n      <td>apartment</td>\n      <td>Apartamento</td>\n      <td>51.0</td>\n      <td>['Toalhas', 'Sofá-cama', 'Fogão', 'Chuveiro', ...</td>\n      <td>NaN</td>\n      <td>NaN</td>\n      <td>NaN</td>\n      <td>NaN</td>\n      <td>NaN</td>\n      <td>NaN</td>\n      <td>NaN</td>\n      <td>NaN</td>\n      <td>NaN</td>\n      <td>NaN</td>\n      <td>NaN</td>\n    </tr>\n    <tr>\n      <th>4</th>\n      <td>4</td>\n      <td>10960702</td>\n      <td>1096070202</td>\n      <td>MGI - Apartamentos proximos da praia do Tororão</td>\n      <td>Arraial d'Ajuda</td>\n      <td>apartment</td>\n      <td>Villa Deluxe</td>\n      <td>130.0</td>\n      <td>['Guarda-roupa ou armário', 'Área para refeiçõ...</td>\n      <td>NaN</td>\n      <td>NaN</td>\n      <td>NaN</td>\n      <td>NaN</td>\n      <td>NaN</td>\n      <td>NaN</td>\n      <td>NaN</td>\n      <td>NaN</td>\n      <td>NaN</td>\n      <td>NaN</td>\n      <td>NaN</td>\n    </tr>\n  </tbody>\n</table>\n</div>"
     },
     "execution_count": 234,
     "metadata": {},
     "output_type": "execute_result"
    }
   ],
   "source": [
    "data.head()"
   ],
   "metadata": {
    "collapsed": false,
    "ExecuteTime": {
     "end_time": "2023-11-17T13:53:39.013645300Z",
     "start_time": "2023-11-17T13:53:38.533369300Z"
    }
   },
   "id": "5173fca9849e568a"
  },
  {
   "cell_type": "markdown",
   "source": [],
   "metadata": {
    "collapsed": false
   },
   "id": "cbbe47187cfca15"
  },
  {
   "cell_type": "code",
   "execution_count": 235,
   "outputs": [],
   "source": [
    "# Abrindo o dataset com merge\n",
    "data = pd.read_csv('dataset_merge.csv', encoding=\"utf-8\", sep = ',')"
   ],
   "metadata": {
    "collapsed": false,
    "ExecuteTime": {
     "end_time": "2023-11-17T13:53:39.014642400Z",
     "start_time": "2023-11-17T13:53:38.563630200Z"
    }
   },
   "id": "7f7f3f9d447e253"
  },
  {
   "cell_type": "markdown",
   "source": [],
   "metadata": {
    "collapsed": false
   },
   "id": "8f0da5ae3c6943f0"
  },
  {
   "cell_type": "code",
   "execution_count": 236,
   "outputs": [
    {
     "data": {
      "text/plain": "   Unnamed: 0_details  hotel_id     room_id  \\\n0                   0  10966441  1096644102   \n1                   1  10966258  1096625802   \n2                   2  10966118  1096611801   \n3                   3  10961514  1096151402   \n4                   4  10960702  1096070202   \n\n                                 hotel_name_details        city_name  \\\n0  Apto belo e com churrasqueira na varanda VIC0203    Florianópolis   \n1           Chalés encantadores em Urubici/SC - PAR          Urubici   \n2        Casa em lindo cond. a 5min da praia PEV105          Ubatuba   \n3          Studio a 2min da UFSC Floripa-SC SSG0304    Florianópolis   \n4   MGI - Apartamentos proximos da praia do Tororão  Arraial d'Ajuda   \n\n  accommodation_type          room_name  room_surface_in_m2  \\\n0          apartment        Apartamento                96.0   \n1          apartment            Bangalô                65.0   \n2       holiday_home  Casa de 3 Quartos               220.0   \n3          apartment        Apartamento                51.0   \n4          apartment       Villa Deluxe               130.0   \n\n                                     room_facilities  Unnamed: 0_ratings  \\\n0  ['Taças de vinho', 'Secadora de roupas', 'Guar...                 NaN   \n1  ['Banheiro privativo', 'Geladeira', 'TV', 'Sec...                 NaN   \n2  ['Taças de vinho', 'Cozinha', 'Vaso sanitário'...                 2.0   \n3  ['Toalhas', 'Sofá-cama', 'Fogão', 'Chuveiro', ...                 NaN   \n4  ['Guarda-roupa ou armário', 'Área para refeiçõ...                 NaN   \n\n                           hotel_name_ratings  \\\n0                                         NaN   \n1                                         NaN   \n2  Casa em lindo cond. a 5min da praia PEV105   \n3                                         NaN   \n4                                         NaN   \n\n                                                 url  Comodidades  Limpeza  \\\n0                                                NaN          NaN      NaN   \n1                                                NaN          NaN      NaN   \n2  https://www.booking.com/hotel/br/casa-em-lindo...          NaN      NaN   \n3                                                NaN          NaN      NaN   \n4                                                NaN          NaN      NaN   \n\n   Conforto  Custo-benefício  Localização  Total  WiFi gratuito  \\\n0       NaN              NaN          NaN    NaN            NaN   \n1       NaN              NaN          NaN    NaN            NaN   \n2       NaN              NaN          NaN    NaN            NaN   \n3       NaN              NaN          NaN    NaN            NaN   \n4       NaN              NaN          NaN    NaN            NaN   \n\n   number_of_ratings  \n0                NaN  \n1                NaN  \n2                0.0  \n3                NaN  \n4                NaN  ",
      "text/html": "<div>\n<style scoped>\n    .dataframe tbody tr th:only-of-type {\n        vertical-align: middle;\n    }\n\n    .dataframe tbody tr th {\n        vertical-align: top;\n    }\n\n    .dataframe thead th {\n        text-align: right;\n    }\n</style>\n<table border=\"1\" class=\"dataframe\">\n  <thead>\n    <tr style=\"text-align: right;\">\n      <th></th>\n      <th>Unnamed: 0_details</th>\n      <th>hotel_id</th>\n      <th>room_id</th>\n      <th>hotel_name_details</th>\n      <th>city_name</th>\n      <th>accommodation_type</th>\n      <th>room_name</th>\n      <th>room_surface_in_m2</th>\n      <th>room_facilities</th>\n      <th>Unnamed: 0_ratings</th>\n      <th>hotel_name_ratings</th>\n      <th>url</th>\n      <th>Comodidades</th>\n      <th>Limpeza</th>\n      <th>Conforto</th>\n      <th>Custo-benefício</th>\n      <th>Localização</th>\n      <th>Total</th>\n      <th>WiFi gratuito</th>\n      <th>number_of_ratings</th>\n    </tr>\n  </thead>\n  <tbody>\n    <tr>\n      <th>0</th>\n      <td>0</td>\n      <td>10966441</td>\n      <td>1096644102</td>\n      <td>Apto belo e com churrasqueira na varanda VIC0203</td>\n      <td>Florianópolis</td>\n      <td>apartment</td>\n      <td>Apartamento</td>\n      <td>96.0</td>\n      <td>['Taças de vinho', 'Secadora de roupas', 'Guar...</td>\n      <td>NaN</td>\n      <td>NaN</td>\n      <td>NaN</td>\n      <td>NaN</td>\n      <td>NaN</td>\n      <td>NaN</td>\n      <td>NaN</td>\n      <td>NaN</td>\n      <td>NaN</td>\n      <td>NaN</td>\n      <td>NaN</td>\n    </tr>\n    <tr>\n      <th>1</th>\n      <td>1</td>\n      <td>10966258</td>\n      <td>1096625802</td>\n      <td>Chalés encantadores em Urubici/SC - PAR</td>\n      <td>Urubici</td>\n      <td>apartment</td>\n      <td>Bangalô</td>\n      <td>65.0</td>\n      <td>['Banheiro privativo', 'Geladeira', 'TV', 'Sec...</td>\n      <td>NaN</td>\n      <td>NaN</td>\n      <td>NaN</td>\n      <td>NaN</td>\n      <td>NaN</td>\n      <td>NaN</td>\n      <td>NaN</td>\n      <td>NaN</td>\n      <td>NaN</td>\n      <td>NaN</td>\n      <td>NaN</td>\n    </tr>\n    <tr>\n      <th>2</th>\n      <td>2</td>\n      <td>10966118</td>\n      <td>1096611801</td>\n      <td>Casa em lindo cond. a 5min da praia PEV105</td>\n      <td>Ubatuba</td>\n      <td>holiday_home</td>\n      <td>Casa de 3 Quartos</td>\n      <td>220.0</td>\n      <td>['Taças de vinho', 'Cozinha', 'Vaso sanitário'...</td>\n      <td>2.0</td>\n      <td>Casa em lindo cond. a 5min da praia PEV105</td>\n      <td>https://www.booking.com/hotel/br/casa-em-lindo...</td>\n      <td>NaN</td>\n      <td>NaN</td>\n      <td>NaN</td>\n      <td>NaN</td>\n      <td>NaN</td>\n      <td>NaN</td>\n      <td>NaN</td>\n      <td>0.0</td>\n    </tr>\n    <tr>\n      <th>3</th>\n      <td>3</td>\n      <td>10961514</td>\n      <td>1096151402</td>\n      <td>Studio a 2min da UFSC Floripa-SC SSG0304</td>\n      <td>Florianópolis</td>\n      <td>apartment</td>\n      <td>Apartamento</td>\n      <td>51.0</td>\n      <td>['Toalhas', 'Sofá-cama', 'Fogão', 'Chuveiro', ...</td>\n      <td>NaN</td>\n      <td>NaN</td>\n      <td>NaN</td>\n      <td>NaN</td>\n      <td>NaN</td>\n      <td>NaN</td>\n      <td>NaN</td>\n      <td>NaN</td>\n      <td>NaN</td>\n      <td>NaN</td>\n      <td>NaN</td>\n    </tr>\n    <tr>\n      <th>4</th>\n      <td>4</td>\n      <td>10960702</td>\n      <td>1096070202</td>\n      <td>MGI - Apartamentos proximos da praia do Tororão</td>\n      <td>Arraial d'Ajuda</td>\n      <td>apartment</td>\n      <td>Villa Deluxe</td>\n      <td>130.0</td>\n      <td>['Guarda-roupa ou armário', 'Área para refeiçõ...</td>\n      <td>NaN</td>\n      <td>NaN</td>\n      <td>NaN</td>\n      <td>NaN</td>\n      <td>NaN</td>\n      <td>NaN</td>\n      <td>NaN</td>\n      <td>NaN</td>\n      <td>NaN</td>\n      <td>NaN</td>\n      <td>NaN</td>\n    </tr>\n  </tbody>\n</table>\n</div>"
     },
     "execution_count": 236,
     "metadata": {},
     "output_type": "execute_result"
    }
   ],
   "source": [
    "data.head()"
   ],
   "metadata": {
    "collapsed": false,
    "ExecuteTime": {
     "end_time": "2023-11-17T13:53:39.017636100Z",
     "start_time": "2023-11-17T13:53:38.610622200Z"
    }
   },
   "id": "60a42cfa0acd59c8"
  },
  {
   "cell_type": "code",
   "execution_count": 237,
   "outputs": [
    {
     "name": "stdout",
     "output_type": "stream",
     "text": [
      "Detalhes do Dataset data:\n",
      "Número de linhas, colunas: (1317, 20)\n"
     ]
    }
   ],
   "source": [
    "data_shp = data.shape\n",
    "# Imprimir os resultados\n",
    "print(\"Detalhes do Dataset data:\")\n",
    "print(\"Número de linhas, colunas:\", data_shp)"
   ],
   "metadata": {
    "collapsed": false,
    "ExecuteTime": {
     "end_time": "2023-11-17T13:53:39.020674600Z",
     "start_time": "2023-11-17T13:53:38.658755700Z"
    }
   },
   "id": "49f107b9a5e80347"
  },
  {
   "cell_type": "code",
   "execution_count": 238,
   "outputs": [
    {
     "data": {
      "text/plain": "Index(['Unnamed: 0_details', 'hotel_id', 'room_id', 'hotel_name_details',\n       'city_name', 'accommodation_type', 'room_name', 'room_surface_in_m2',\n       'room_facilities', 'Unnamed: 0_ratings', 'hotel_name_ratings', 'url',\n       'Comodidades', 'Limpeza', 'Conforto', 'Custo-benefício', 'Localização',\n       'Total', 'WiFi gratuito', 'number_of_ratings'],\n      dtype='object')"
     },
     "execution_count": 238,
     "metadata": {},
     "output_type": "execute_result"
    }
   ],
   "source": [
    "# Listando nome das colunas\n",
    "data.columns"
   ],
   "metadata": {
    "collapsed": false,
    "ExecuteTime": {
     "end_time": "2023-11-17T13:53:39.021692900Z",
     "start_time": "2023-11-17T13:53:38.675577600Z"
    }
   },
   "id": "be76138238aaa0d5"
  },
  {
   "cell_type": "code",
   "execution_count": 239,
   "outputs": [
    {
     "name": "stdout",
     "output_type": "stream",
     "text": [
      "Index(['ordem', 'hotel_id', 'room_id', 'hotel_name_details', 'city_name',\n",
      "       'accommodation_type', 'room_name', 'room_surface_in_m2',\n",
      "       'room_facilities', 'ratings', 'hotel_name_ratings', 'url',\n",
      "       'comodidades', 'limpeza', 'conforto', 'custo_benefício', 'localização',\n",
      "       'total', 'wifi_gratuito', 'number_of_ratings'],\n",
      "      dtype='object')\n"
     ]
    }
   ],
   "source": [
    "# Renomeando as Colunas\n",
    "data.rename(columns={'Unnamed: 0_details': 'ordem', 'Unnamed: 0_ratings':'ratings'}, inplace=True)\n",
    "# Renomeando as colunas para letras minúsculas e substituindo espaços por underscore\n",
    "data.columns = [col.lower().replace(' ', '_').replace('-', '_') for col in data.columns]\n",
    "\n",
    "# Exibindo as novas colunas\n",
    "print(data.columns)"
   ],
   "metadata": {
    "collapsed": false,
    "ExecuteTime": {
     "end_time": "2023-11-17T13:53:39.022723Z",
     "start_time": "2023-11-17T13:53:38.695800200Z"
    }
   },
   "id": "c4643842e38719cf"
  },
  {
   "cell_type": "markdown",
   "source": [
    "### Pergunta: 1 - Ordene as cidades em ordem crescente de número de listings;"
   ],
   "metadata": {
    "collapsed": false
   },
   "id": "a2e7cb1f086c61ad"
  },
  {
   "cell_type": "code",
   "execution_count": 240,
   "outputs": [
    {
     "name": "stdout",
     "output_type": "stream",
     "text": [
      "                 Cidade  Número de Listings\n",
      "0              São José                   1\n",
      "1              Camboriú                   1\n",
      "2              Bertioga                   1\n",
      "3            Meia Praia                   1\n",
      "4           Pirenópolis                   1\n",
      "5         Águas Brancas                   1\n",
      "6            Taguatinga                   1\n",
      "7          Caldas Novas                   1\n",
      "8         Praia do Rosa                   1\n",
      "9              Trancoso                   2\n",
      "10               Maceió                   2\n",
      "11         Águas Claras                   2\n",
      "12           Petrópolis                   3\n",
      "13       Angra dos Reis                   3\n",
      "14              Urubici                   3\n",
      "15               Ilhéus                   4\n",
      "16          Hidrolândia                   4\n",
      "17  Santa Cruz Cabrália                   4\n",
      "18               Búzios                   5\n",
      "19             Garopaba                   6\n",
      "20      Poços de Caldas                   8\n",
      "21             Brasília                   8\n",
      "22      Arraial d'Ajuda                   9\n",
      "23               Canela                   9\n",
      "24           Porto Belo                  10\n",
      "25               Itajaí                  12\n",
      "26         Porto Seguro                  13\n",
      "27              Gramado                  15\n",
      "28            Cabo Frio                  18\n",
      "29         Porto Alegre                  19\n",
      "30              Itapema                  22\n",
      "31             Imbituba                  23\n",
      "32     Campos do Jordão                  24\n",
      "33           Anitápolis                  27\n",
      "34              Ubatuba                  37\n",
      "35   Balneário Camboriú                  41\n",
      "36            Bombinhas                  65\n",
      "37              Goiânia                 142\n",
      "38        Florianópolis                 768\n"
     ]
    }
   ],
   "source": [
    "cidade_ord_cresc_list = data['city_name'].value_counts().sort_values()\n",
    "cidade_ordem = cidade_ord_cresc_list.reset_index()\n",
    "cidade_ordem.columns = ['Cidade', 'Número de Listings']\n",
    "print(cidade_ordem)"
   ],
   "metadata": {
    "collapsed": false,
    "ExecuteTime": {
     "end_time": "2023-11-17T13:53:39.023750600Z",
     "start_time": "2023-11-17T13:53:38.713561100Z"
    }
   },
   "id": "8be094632b134b8c"
  },
  {
   "cell_type": "markdown",
   "source": [
    "## 3.2 - Análise Estatística Básica\n",
    "### Aqui, vamos ver algumas estatísticas. Média, mediana, essas coisas.\n"
   ],
   "metadata": {
    "collapsed": false
   },
   "id": "23b8ea35804eef6d"
  },
  {
   "cell_type": "code",
   "execution_count": 241,
   "outputs": [],
   "source": [
    "#data.describe()"
   ],
   "metadata": {
    "collapsed": false,
    "ExecuteTime": {
     "end_time": "2023-11-17T13:53:39.023750600Z",
     "start_time": "2023-11-17T13:53:38.738670400Z"
    }
   },
   "id": "5c10532a61df3a87"
  },
  {
   "cell_type": "markdown",
   "source": [
    "## 3.3 - Análise Visual\n",
    "### Vamos proceder com a criação de alguns gráficos para obter uma visão geral."
   ],
   "metadata": {
    "collapsed": false
   },
   "id": "569606aee887a179"
  },
  {
   "cell_type": "markdown",
   "source": [
    "\n",
    "\n"
   ],
   "metadata": {
    "collapsed": false
   },
   "id": "856a35afc57e951"
  },
  {
   "cell_type": "markdown",
   "source": [
    "# 4 - Limpeza e Preparação dos Dados\n",
    "### Vamos remover dados ruins, preencher valores faltantes, etc."
   ],
   "metadata": {
    "collapsed": false
   },
   "id": "a5a29f79cc1204e5"
  },
  {
   "cell_type": "code",
   "execution_count": 241,
   "outputs": [],
   "source": [],
   "metadata": {
    "collapsed": false,
    "ExecuteTime": {
     "end_time": "2023-11-17T13:53:39.025792200Z",
     "start_time": "2023-11-17T13:53:38.751167700Z"
    }
   },
   "id": "d6345e231c248869"
  },
  {
   "cell_type": "markdown",
   "source": [
    "# 5 - Modelagem de Dados"
   ],
   "metadata": {
    "collapsed": false
   },
   "id": "dbccbdc961ead705"
  },
  {
   "cell_type": "markdown",
   "source": [
    "# 6 - Conclusão"
   ],
   "metadata": {
    "collapsed": false
   },
   "id": "a0fe98c663fe2326"
  },
  {
   "cell_type": "markdown",
   "source": [],
   "metadata": {
    "collapsed": false
   },
   "id": "9cf4f903debb2783"
  },
  {
   "cell_type": "markdown",
   "source": [],
   "metadata": {
    "collapsed": false
   },
   "id": "f30de75fb4045d87"
  }
 ],
 "metadata": {
  "kernelspec": {
   "display_name": "Python 3",
   "language": "python",
   "name": "python3"
  },
  "language_info": {
   "codemirror_mode": {
    "name": "ipython",
    "version": 2
   },
   "file_extension": ".py",
   "mimetype": "text/x-python",
   "name": "python",
   "nbconvert_exporter": "python",
   "pygments_lexer": "ipython2",
   "version": "2.7.6"
  }
 },
 "nbformat": 4,
 "nbformat_minor": 5
}
